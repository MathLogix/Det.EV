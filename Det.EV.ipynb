{
 "cells": [
  {
   "cell_type": "code",
   "execution_count": 6,
   "id": "e6d0fb02",
   "metadata": {},
   "outputs": [
    {
     "name": "stdout",
     "output_type": "stream",
     "text": [
      "Determinant of the matrix:\n",
      "[[ 1.   2. ]\n",
      " [ 0.5 10. ]]\n",
      "\n",
      "is: 9.000000000000002\n"
     ]
    }
   ],
   "source": [
    "import numpy as np\n",
    "\n",
    "def calculate_determinant(matrix):\n",
    "    determinant = np.linalg.det(matrix)\n",
    "    return determinant\n",
    "\n",
    "matrixnew = np.array([[1, 2],\n",
    "                       [0.5, 10],                      \n",
    "                       ])\n",
    "\n",
    "result = calculate_determinant(matrixnew)\n",
    "\n",
    "print(f\"Determinant of the matrix:\\n{matrixnew}\\n\\nis: {result}\")\n"
   ]
  },
  {
   "cell_type": "code",
   "execution_count": 5,
   "id": "ac070398",
   "metadata": {},
   "outputs": [
    {
     "name": "stdout",
     "output_type": "stream",
     "text": [
      "Eigenvalues are:\n",
      " [ 0.89022777 10.10977223]\n"
     ]
    }
   ],
   "source": [
    "import numpy as np\n",
    "\n",
    "def find_eigenvalues(matrix):\n",
    "    eigenvalues, _ = np.linalg.eig(matrix)\n",
    "    \n",
    "    return eigenvalues\n",
    "\n",
    "matrixnew = np.array([[1, 2],\n",
    "                       [0.5, 10],                      \n",
    "                       ])\n",
    "\n",
    "eigenvalues = find_eigenvalues(matrixnew)\n",
    "\n",
    "print(f\"Eigenvalues are:\\n {eigenvalues}\")\n"
   ]
  },
  {
   "cell_type": "code",
   "execution_count": 4,
   "id": "ba55d985",
   "metadata": {
    "scrolled": false
   },
   "outputs": [
    {
     "name": "stdout",
     "output_type": "stream",
     "text": [
      "\n",
      "Eigenvectors are:\n",
      "[[-0.99849715 -0.21443736]\n",
      " [ 0.05480363 -0.97673774]]\n"
     ]
    }
   ],
   "source": [
    "import numpy as np\n",
    "\n",
    "def find_eigenvectors(matrix):\n",
    "    eigenvalues, eigenvectors = np.linalg.eig(matrix)\n",
    "    \n",
    "    return eigenvalues, eigenvectors\n",
    "\n",
    "matrixnew = np.array([[1, 2],\n",
    "                       [0.5, 10],                      \n",
    "                       ])\n",
    "\n",
    "eigenvalues, eigenvectors = find_eigenvectors(matrixnew)\n",
    "\n",
    "print(f\"\\nEigenvectors are:\\n{eigenvectors}\")"
   ]
  },
  {
   "cell_type": "code",
   "execution_count": null,
   "id": "0f9a56f2",
   "metadata": {},
   "outputs": [],
   "source": []
  }
 ],
 "metadata": {
  "kernelspec": {
   "display_name": "Python 3 (ipykernel)",
   "language": "python",
   "name": "python3"
  },
  "language_info": {
   "codemirror_mode": {
    "name": "ipython",
    "version": 3
   },
   "file_extension": ".py",
   "mimetype": "text/x-python",
   "name": "python",
   "nbconvert_exporter": "python",
   "pygments_lexer": "ipython3",
   "version": "3.9.18"
  }
 },
 "nbformat": 4,
 "nbformat_minor": 5
}
